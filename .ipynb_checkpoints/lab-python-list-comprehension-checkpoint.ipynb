{
 "cells": [
  {
   "cell_type": "markdown",
   "id": "25d7736c-ba17-4aff-b6bb-66eba20fbf4e",
   "metadata": {},
   "source": [
    "# Lab | List, Dict and Set Comprehension"
   ]
  },
  {
   "cell_type": "markdown",
   "id": "7dd3cbde-675a-4b81-92c3-f728846dbe06",
   "metadata": {},
   "source": [
    "## Exercise: Managing Customer Orders Optimized with Comprehension"
   ]
  },
  {
   "cell_type": "markdown",
   "id": "5d500160-2fb7-4777-b5e4-09d45ebaf328",
   "metadata": {},
   "source": [
    "In the previous exercise, you developed a program to manage customer orders and inventory. Now, let's take it a step further and incorporate comprehension into your code.\n",
    "\n",
    "Follow the steps below to complete the exercise:\n",
    "\n",
    "1. Review your code from the previous exercise and identify areas where you can apply comprehension to simplify and streamline your code. \n",
    "\n",
    "    - *Hint: Apply it to initialize inventory, updating the inventory and printing the updated inventory.*\n",
    "    \n",
    "    - For example, in initializing the inventory, we could have:\n",
    "    \n",
    "        ```python\n",
    "        def initialize_inventory(products):\n",
    "            inventory = {product: int(input(f\"Enter the quantity of {product}s available: \")) for product in products}\n",
    "            return inventory\n",
    "\n",
    "        ```\n",
    "<br>\n",
    "    \n",
    "    \n",
    "2. Modify the function get_customer_orders so it prompts the user to enter the number of customer orders and gathers the product names using a loop and user input. Use comprehension.\n",
    "\n",
    "3. Add a new function to calculate the total price of the customer order. For each product in customer_orders, prompt the user to enter the price of that product. Use comprehension to calculate the total price. Note: assume that the user can only have 1 unit of each product.\n",
    "\n",
    "4. Modify the update_inventory function to remove the product from the inventory if its quantity becomes zero after fulfilling the customer orders. Use comprehension to filter out the products with a quantity of zero from the inventory.\n",
    "\n",
    "5. Print the total price of the customer order.\n",
    "\n",
    "Your code should produce output similar to the following:\n",
    "\n",
    "```python\n",
    "Enter the quantity of t-shirts available:  5\n",
    "Enter the quantity of mugs available:  4\n",
    "Enter the quantity of hats available:  3\n",
    "Enter the quantity of books available:  2\n",
    "Enter the quantity of keychains available:  1\n",
    "Enter the number of customer orders:  2\n",
    "Enter the name of a product that a customer wants to order:  hat\n",
    "Enter the name of a product that a customer wants to order:  keychain\n",
    "\n",
    "Order Statistics:\n",
    "Total Products Ordered: 2\n",
    "Percentage of Unique Products Ordered: 40.0\n",
    "\n",
    "Updated Inventory:\n",
    "t-shirt: 5\n",
    "mug: 4\n",
    "hat: 2\n",
    "book: 2\n",
    "Enter the price of keychain:  5\n",
    "Enter the price of hat:  10\n",
    "Total Price: 15.0\n",
    "\n",
    "```\n"
   ]
  },
  {
   "cell_type": "markdown",
   "id": "7d6e4fd7-aeff-4d80-9763-0152ffae13b9",
   "metadata": {},
   "source": [
    "1. Review your code from the previous exercise and identify areas where you can apply comprehension to simplify and streamline your code. \n",
    "\n",
    "    - *Hint: Apply it to initialize inventory, updating the inventory and printing the updated inventory.*\n",
    "    \n",
    "    - For example, in initializing the inventory, we could have:\n",
    "    \n",
    "        ```python\n",
    "        def initialize_inventory(products):\n",
    "            inventory = {product: int(input(f\"Enter the quantity of {product}s available: \")) for product in products}\n",
    "            return inventory\n",
    "\n",
    "        ```"
   ]
  },
  {
   "cell_type": "code",
   "execution_count": 96,
   "id": "751660d2-1023-4b12-bf7d-2e2d32dd45a9",
   "metadata": {},
   "outputs": [],
   "source": [
    "products = [\"t-shirt\", \"mug\", \"hat\", \"book\", \"keychain\"]\n",
    "\n",
    "def initialize_inventory(products):\n",
    "    inventory = {item: int(input(f\"Enter the qty of {item} available: \")) for item in products}\n",
    "    return inventory\n",
    "\n",
    "#inventory = initialize_inventory(products)\n",
    "#print(inventory)"
   ]
  },
  {
   "cell_type": "markdown",
   "id": "21d9e6eb-849c-4776-9931-9575dad6e13b",
   "metadata": {},
   "source": [
    "2. Modify the function get_customer_orders so it prompts the user to enter the number of customer orders and gathers the product names using a loop and user input. Use comprehension."
   ]
  },
  {
   "cell_type": "code",
   "execution_count": 98,
   "id": "b3c298a3-4f1e-41fc-9ab1-add53ddd0826",
   "metadata": {},
   "outputs": [],
   "source": [
    "customer_orders = set()\n",
    "\n",
    "def get_customer_orders(): \n",
    "    number_of_orders = int(input(\"Enter the no. of customer orders:\"))\n",
    "    customer_orders = {input(\"Enter the name of a product that a customer wants to order: \") for i in range(number_of_orders)}\n",
    "    return customer_orders\n",
    "#customer_orders = get_customer_orders()"
   ]
  },
  {
   "cell_type": "markdown",
   "id": "12b368bf-aa5f-4fde-9397-f9a4db280e4e",
   "metadata": {},
   "source": [
    "3. Add a new function to calculate the total price of the customer order. For each product in customer_orders, prompt the user to enter the price of that product. Use comprehension to calculate the total price. Note: assume that the user can only have 1 unit of each product."
   ]
  },
  {
   "cell_type": "code",
   "execution_count": 115,
   "id": "b8ab7767-7792-471f-852b-dac216d90448",
   "metadata": {},
   "outputs": [],
   "source": [
    "def calculate_total_price(customer_orders):\n",
    "    prices = {item: float(input(f\"Enter the price of {item}: \")) for item in customer_orders}\n",
    "    total_price = sum(prices[item] for item in customer_orders)\n",
    "    return (f\"Total Price: {total_price}\")\n",
    "#calculate_total_price(customer_orders)"
   ]
  },
  {
   "cell_type": "markdown",
   "id": "f57c88be-0ff1-49c8-97c4-7fdd3377ef45",
   "metadata": {},
   "source": [
    "4. Modify the update_inventory function to remove the product from the inventory if its quantity becomes zero after fulfilling the customer orders. Use comprehension to filter out the products with a quantity of zero from the inventory."
   ]
  },
  {
   "cell_type": "code",
   "execution_count": 105,
   "id": "d26e8be2-0f15-4ab0-aac2-61a7849c2c8e",
   "metadata": {},
   "outputs": [],
   "source": [
    "def update_inventory(customer_orders, inventory):\n",
    "    upd_inventory = {item:(inventory[item]-1 if item in customer_orders else inventory[item]) for item in inventory}\n",
    "    upd_inventory = {item: upd_inventory[item] for item in upd_inventory if upd_inventory[item] > 0}\n",
    "    return upd_inventory\n",
    "#upd_inventory = update_inventory(customer_orders, inventory)\n",
    "#print(upd_inventory)"
   ]
  },
  {
   "cell_type": "code",
   "execution_count": 113,
   "id": "c2e8195e-2058-45b7-b1d6-439e3d45ea0c",
   "metadata": {},
   "outputs": [],
   "source": [
    "def calculate_order_statistics(customer_orders, products):\n",
    "    total_ordered = len(customer_orders)\n",
    "    total_ordered\n",
    "    total_inventory = len(inventory.keys())\n",
    "    total_inventory\n",
    "    percentage_ordered = (total_ordered/total_inventory)*100\n",
    "    percentage_ordered\n",
    "    return total_ordered, percentage_ordered\n",
    "\n",
    "total_ordered = len(customer_orders)\n",
    "total_inventory = len(inventory.keys())\n",
    "percentage_ordered = (total_ordered/total_inventory)*100\n",
    "\n",
    "def print_order_statistics(calculate_order_statistics):\n",
    "    return"
   ]
  },
  {
   "cell_type": "markdown",
   "id": "e1640538-6684-4583-8bc1-2b075d79a0ab",
   "metadata": {},
   "source": [
    "5. Print the total price of the customer order."
   ]
  },
  {
   "cell_type": "code",
   "execution_count": 117,
   "id": "952b6447-8ec2-4ad9-bcb4-18ea757aea5d",
   "metadata": {},
   "outputs": [
    {
     "name": "stdin",
     "output_type": "stream",
     "text": [
      "Enter the qty of t-shirt available:  5\n",
      "Enter the qty of mug available:  5\n",
      "Enter the qty of hat available:  5\n",
      "Enter the qty of book available:  5\n",
      "Enter the qty of keychain available:  4\n"
     ]
    },
    {
     "name": "stdout",
     "output_type": "stream",
     "text": [
      "\n",
      "\n"
     ]
    },
    {
     "name": "stdin",
     "output_type": "stream",
     "text": [
      "Enter the no. of customer orders: 2\n",
      "Enter the name of a product that a customer wants to order:  book\n",
      "Enter the name of a product that a customer wants to order:  mug\n"
     ]
    },
    {
     "name": "stdout",
     "output_type": "stream",
     "text": [
      "\n",
      "Order Statistics:\n",
      "Total Products Ordered: 2\n",
      "Percentage of Unique Products Ordered: 40.0%\n",
      "    \n",
      "Updated Inventory:\n",
      "{'t-shirt': 5, 'mug': 4, 'hat': 5, 'book': 4, 'keychain': 4}\n"
     ]
    },
    {
     "name": "stdin",
     "output_type": "stream",
     "text": [
      "Enter the price of mug:  5\n",
      "Enter the price of book:  4\n"
     ]
    },
    {
     "data": {
      "text/plain": [
       "'Total Price: 9.0'"
      ]
     },
     "execution_count": 117,
     "metadata": {},
     "output_type": "execute_result"
    }
   ],
   "source": [
    "products = [\"t-shirt\", \"mug\", \"hat\", \"book\", \"keychain\"]\n",
    "\n",
    "inventory = initialize_inventory(products)\n",
    "#print(inventory)\n",
    "print(\"\\n\")\n",
    "\n",
    "customer_orders = set()\n",
    "customer_orders = get_customer_orders()\n",
    "\n",
    "print_order_statistics(calculate_order_statistics)\n",
    "print(f\"\"\"\n",
    "Order Statistics:\n",
    "Total Products Ordered: {total_ordered}\n",
    "Percentage of Unique Products Ordered: {percentage_ordered}%\n",
    "    \"\"\")\n",
    "\n",
    "upd_inventory = update_inventory(customer_orders, inventory)\n",
    "print(\"Updated Inventory:\")\n",
    "print(upd_inventory)\n",
    "\n",
    "calculate_total_price(customer_orders)"
   ]
  },
  {
   "cell_type": "code",
   "execution_count": null,
   "id": "096e42c4-6120-44b9-a959-ed7a3275ae27",
   "metadata": {},
   "outputs": [],
   "source": []
  }
 ],
 "metadata": {
  "kernelspec": {
   "display_name": "Python 3 (ipykernel)",
   "language": "python",
   "name": "python3"
  },
  "language_info": {
   "codemirror_mode": {
    "name": "ipython",
    "version": 3
   },
   "file_extension": ".py",
   "mimetype": "text/x-python",
   "name": "python",
   "nbconvert_exporter": "python",
   "pygments_lexer": "ipython3",
   "version": "3.11.7"
  }
 },
 "nbformat": 4,
 "nbformat_minor": 5
}
